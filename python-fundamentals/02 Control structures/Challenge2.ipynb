{
  "cells": [
    {
      "cell_type": "markdown",
      "metadata": {
        "id": "6zrFQijYubcq"
      },
      "source": [
        "# Challenge #2\n",
        "\n",
        "Bienvenidos al Challenge #2 del curso. Ahora se les proporcionará una lista de problemas donde tienen que escribir código Python para resolverlos:"
      ]
    },
    {
      "cell_type": "markdown",
      "metadata": {
        "id": "S-OoT-Xyubcr"
      },
      "source": [
        "## Ejercicios introductorios"
      ]
    },
    {
      "cell_type": "markdown",
      "metadata": {
        "id": "uIgSFkKiubcr"
      },
      "source": [
        "1. ¡Preséntate! Imprime el siguiente mensaje en Python (cambia 'Emanuel' por tu nombre y 'científico de la computación' por tu ocupación o carrera que estás estudiando):\n",
        "\n",
        "    ```python\n",
        "    Hola mundo! Mi nombre es Emanuel y soy científico de la computación.\n",
        "    ```"
      ]
    },
    {
      "cell_type": "code",
      "execution_count": 1,
      "metadata": {
        "id": "37c8GV9-ubcr",
        "outputId": "743e3193-8ed8-4556-b600-b379ed610c96",
        "colab": {
          "base_uri": "https://localhost:8080/"
        }
      },
      "outputs": [
        {
          "output_type": "stream",
          "name": "stdout",
          "text": [
            "Hola mundo! Mi nombre es Hugo y soy Software Engineer\n"
          ]
        }
      ],
      "source": [
        "# Escriba aquí la solución de la pregunta 1 ...\n",
        "print(\"Hola mundo! Mi nombre es Hugo y soy Software Engineer\")"
      ]
    },
    {
      "cell_type": "markdown",
      "metadata": {
        "id": "IhQajMDzubcs"
      },
      "source": [
        "2. Crea una calculadora de IMC de una persona utilizando su peso y altura. Puedes pedir al usuario que ingrese su peso y altura, y luego calcular el IMC:\n",
        "\n",
        "$$\n",
        "\\text{IMC} = \\frac{\\text{peso}}{\\text{altura}^2}\n",
        "$$"
      ]
    },
    {
      "cell_type": "code",
      "execution_count": 4,
      "metadata": {
        "id": "MZcdXtWRubcs",
        "outputId": "ce078ec1-2797-4d02-86a4-35ab0c548710",
        "colab": {
          "base_uri": "https://localhost:8080/"
        }
      },
      "outputs": [
        {
          "output_type": "stream",
          "name": "stdout",
          "text": [
            "Ingrese su pedo en KGs: 83\n",
            "Ingrese su altura en MTs: 1.72\n",
            "IMC:  28.055705786911847\n"
          ]
        }
      ],
      "source": [
        "# Escriba aqui la solución de la pregunta 2 ...\n",
        "weight = float(input(\"Ingrese su pedo en KGs: \"))\n",
        "height = float(input(\"Ingrese su altura en MTs: \"))\n",
        "print(\"IMC: \", weight/height**2)"
      ]
    },
    {
      "cell_type": "markdown",
      "metadata": {
        "id": "3aIpEULvubcs"
      },
      "source": [
        "3. Crea un conversor de unidades de medidas de grados Celsius a grados Fahrenheit. Pide al usuario que ingrese los grados Celsius y tu programa calculará su conversión a grados Fahrenheit.\n",
        "\n",
        "$$\n",
        "^\\circ F = \\frac{9}{5} {^\\circ} C + 32\n",
        "$$"
      ]
    },
    {
      "cell_type": "code",
      "execution_count": 6,
      "metadata": {
        "id": "hlD0FGPiubcs",
        "outputId": "c801ca2a-806c-43fd-cf2e-4631f862f94b",
        "colab": {
          "base_uri": "https://localhost:8080/"
        }
      },
      "outputs": [
        {
          "output_type": "stream",
          "name": "stdout",
          "text": [
            "Celsius: 32\n",
            "Farenheit:  89.6\n"
          ]
        }
      ],
      "source": [
        "# Escriba aqui la solución de la pregunta 3 ...\n",
        "celsius = float(input(\"Celsius: \"))\n",
        "print(\"Farenheit: \", 9/5*celsius + 32)"
      ]
    },
    {
      "cell_type": "markdown",
      "metadata": {
        "id": "8__4GeHsubcs"
      },
      "source": [
        "4. Dado dos numeros naturales distintos, imprima el mayor de ellos (solo es válido usar las operaciones básicas como `+`, `-`, `/`, `//`, `*`, no es válido usar condicionales como IF, ELSE, etc)."
      ]
    },
    {
      "cell_type": "code",
      "execution_count": 9,
      "metadata": {
        "id": "fMh6uUvuubcs",
        "outputId": "e6e85311-0369-4a1a-8fd1-2a5026d7b8c8",
        "colab": {
          "base_uri": "https://localhost:8080/"
        }
      },
      "outputs": [
        {
          "output_type": "stream",
          "name": "stdout",
          "text": [
            "a: 56\n",
            "b: 12\n",
            "56\n"
          ]
        }
      ],
      "source": [
        "# Escriba aqui la solución de la pregunta 4 ...\n",
        "a = int(input(\"a: \"))\n",
        "b = int(input(\"b: \"))\n",
        "\n",
        "diff = a - b\n",
        "sign = (diff // abs(diff))*0.5 + 0.5\n",
        "greater = int(a*sign + b*(1 - sign))\n",
        "print(greater)"
      ]
    },
    {
      "cell_type": "markdown",
      "metadata": {
        "id": "1X0Lxi8nubcs"
      },
      "source": [
        "## Condicionales (IF, ELSE, ELIF)"
      ]
    },
    {
      "cell_type": "markdown",
      "metadata": {
        "id": "zDrrtmN0ubcs"
      },
      "source": [
        "5. Crea un programa que solicite al usuario ingresar las longitudes de los tres lados de un triángulo y determine si es equilátero (todos los lados son iguales), isósceles (dos lados son iguales) o escaleno (ningún lado es igual a otro)."
      ]
    },
    {
      "cell_type": "code",
      "execution_count": null,
      "metadata": {
        "id": "Or4gi9nhubcs"
      },
      "outputs": [],
      "source": [
        "# Escriba aquí la solución de la pregunta 5 ...\n"
      ]
    },
    {
      "cell_type": "markdown",
      "metadata": {
        "id": "YLASWZq0ubcs"
      },
      "source": [
        "6. Crea un programa que solicite al usuario ingresar la edad de su perro en años humanos y determine la edad de su perro en años de perro. Los primeros 2 años de vida de un perro equivalen a 10.5 años humanos cada uno, y cada año adicional equivale a 4 años humanos.\n"
      ]
    },
    {
      "cell_type": "code",
      "execution_count": null,
      "metadata": {
        "id": "ugk0I5xxubcs"
      },
      "outputs": [],
      "source": [
        "# Escriba aquí la solución de la pregunta 6 ...\n"
      ]
    },
    {
      "cell_type": "markdown",
      "metadata": {
        "id": "rMPZTiqAubcs"
      },
      "source": [
        "7. Escribe un programa que solicite al usuario ingresar su edad y determine en qué categoría caen: niño (0-12 años), adolescente (13-19 años), adulto (20-64 años) o adulto mayor (65 años o más)."
      ]
    },
    {
      "cell_type": "code",
      "execution_count": null,
      "metadata": {
        "id": "tPeu6x4Oubcs"
      },
      "outputs": [],
      "source": [
        "# Escriba aquí la solución de la pregunta 7 ...\n"
      ]
    },
    {
      "cell_type": "markdown",
      "metadata": {
        "id": "tvcQCT4iubcs"
      },
      "source": [
        "## Bucles"
      ]
    },
    {
      "cell_type": "markdown",
      "metadata": {
        "id": "1Ku6eGBPubcs"
      },
      "source": [
        "8. Dado un número, imprima la tabla de multiplicar del 1 al 10 para ese número."
      ]
    },
    {
      "cell_type": "code",
      "execution_count": null,
      "metadata": {
        "id": "dnh-ENhMubcs"
      },
      "outputs": [],
      "source": [
        "# Escriba aquí la solución de la pregunta 8 ...\n"
      ]
    },
    {
      "cell_type": "markdown",
      "metadata": {
        "id": "ewxiFisIubct"
      },
      "source": [
        "9. Pida al usuario que ingrese un número $N$, y de como respuesta la suma divisores de $N$."
      ]
    },
    {
      "cell_type": "code",
      "execution_count": null,
      "metadata": {
        "id": "mUgXaYXvubct"
      },
      "outputs": [],
      "source": [
        "# Escriba aquí la solución de la pregunta 9 ...\n"
      ]
    },
    {
      "cell_type": "markdown",
      "metadata": {
        "id": "tpZbDtEKubct"
      },
      "source": [
        "10. Dado $n$, imprima un patrón de astericos en forma de rombo con $2 n - 1$ niveles.\n",
        "\n",
        "    $n=3:$\n",
        "    \n",
        "    $$*\\\\***\\\\*****\\\\***\\\\*$$\n",
        "\n",
        "    $n=5:$\n",
        "    \n",
        "    $$*\\\\***\\\\*****\\\\*******\\\\*********\\\\*******\\\\*****\\\\***\\\\*$$"
      ]
    },
    {
      "cell_type": "code",
      "execution_count": null,
      "metadata": {
        "id": "RxBCF7alubct"
      },
      "outputs": [],
      "source": [
        "# Escriba aquí la solución de la pregunta 10 ...\n"
      ]
    }
  ],
  "metadata": {
    "kernelspec": {
      "display_name": "Python 3 (ipykernel)",
      "language": "python",
      "name": "python3"
    },
    "language_info": {
      "codemirror_mode": {
        "name": "ipython",
        "version": 3
      },
      "file_extension": ".py",
      "mimetype": "text/x-python",
      "name": "python",
      "nbconvert_exporter": "python",
      "pygments_lexer": "ipython3",
      "version": "3.11.7"
    },
    "colab": {
      "provenance": []
    }
  },
  "nbformat": 4,
  "nbformat_minor": 0
}